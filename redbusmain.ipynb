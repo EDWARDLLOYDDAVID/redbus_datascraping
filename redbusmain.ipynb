{
 "cells": [
  {
   "cell_type": "markdown",
   "metadata": {},
   "source": [
    "(2)PEPSU                          ---- "
   ]
  },
  {
   "cell_type": "code",
   "execution_count": 24,
   "metadata": {},
   "outputs": [
    {
     "name": "stdout",
     "output_type": "stream",
     "text": [
      "3\n",
      "['https://www.redbus.in/bus-tickets/patiala-to-delhi', 'https://www.redbus.in/bus-tickets/delhi-to-patiala', 'https://www.redbus.in/bus-tickets/ludhiana-to-delhi', 'https://www.redbus.in/bus-tickets/delhi-to-ludhiana', 'https://www.redbus.in/bus-tickets/phagwara-to-delhi', 'https://www.redbus.in/bus-tickets/jalandhar-to-delhi', 'https://www.redbus.in/bus-tickets/delhi-to-jalandhar', 'https://www.redbus.in/bus-tickets/patiala-to-delhi-airport', 'https://www.redbus.in/bus-tickets/jalandhar-to-delhi-airport', 'https://www.redbus.in/bus-tickets/ludhiana-to-delhi-airport', 'https://www.redbus.in/bus-tickets/phagwara-to-delhi-airport', 'https://www.redbus.in/bus-tickets/delhi-airport-to-ludhiana', 'https://www.redbus.in/bus-tickets/delhi-to-phagwara', 'https://www.redbus.in/bus-tickets/delhi-to-amritsar', 'https://www.redbus.in/bus-tickets/amritsar-to-delhi', 'https://www.redbus.in/bus-tickets/delhi-airport-to-patiala', 'https://www.redbus.in/bus-tickets/amritsar-to-delhi-airport', 'https://www.redbus.in/bus-tickets/kapurthala-to-delhi', 'https://www.redbus.in/bus-tickets/delhi-airport-to-jalandhar', 'https://www.redbus.in/bus-tickets/chandigarh-to-bathinda', 'https://www.redbus.in/bus-tickets/chandigarh-to-faridkot', 'https://www.redbus.in/bus-tickets/chandigarh-to-patiala']\n",
      "22\n",
      "Element not found within the given time\n",
      "Element not found within the given time\n",
      "Element not found within the given time\n"
     ]
    },
    {
     "ename": "WebDriverException",
     "evalue": "Message: disconnected: not connected to DevTools\n  (failed to check if window was closed: disconnected: not connected to DevTools)\n  (Session info: chrome=126.0.6478.128)\nStacktrace:\n\tGetHandleVerifier [0x00007FF6E1AAEEB2+31554]\n\t(No symbol) [0x00007FF6E1A27EE9]\n\t(No symbol) [0x00007FF6E18E872A]\n\t(No symbol) [0x00007FF6E18CFA9C]\n\t(No symbol) [0x00007FF6E18CF960]\n\t(No symbol) [0x00007FF6E18EAD51]\n\t(No symbol) [0x00007FF6E197C079]\n\t(No symbol) [0x00007FF6E195CDD3]\n\t(No symbol) [0x00007FF6E192A33B]\n\t(No symbol) [0x00007FF6E192AED1]\n\tGetHandleVerifier [0x00007FF6E1DB8B2D+3217341]\n\tGetHandleVerifier [0x00007FF6E1E05AF3+3532675]\n\tGetHandleVerifier [0x00007FF6E1DFB0F0+3489152]\n\tGetHandleVerifier [0x00007FF6E1B5E786+750614]\n\t(No symbol) [0x00007FF6E1A3376F]\n\t(No symbol) [0x00007FF6E1A2EB24]\n\t(No symbol) [0x00007FF6E1A2ECB2]\n\t(No symbol) [0x00007FF6E1A1E17F]\n\tBaseThreadInitThunk [0x00007FFBA5E8257D+29]\n\tRtlUserThreadStart [0x00007FFBA722AF28+40]\n",
     "output_type": "error",
     "traceback": [
      "\u001b[1;31m---------------------------------------------------------------------------\u001b[0m",
      "\u001b[1;31mWebDriverException\u001b[0m                        Traceback (most recent call last)",
      "Cell \u001b[1;32mIn[24], line 62\u001b[0m\n\u001b[0;32m     60\u001b[0m df\u001b[38;5;241m.\u001b[39mto_csv(\u001b[38;5;124m\"\u001b[39m\u001b[38;5;124mPEPSU_RD.csv\u001b[39m\u001b[38;5;124m\"\u001b[39m,index\u001b[38;5;241m=\u001b[39m\u001b[38;5;28;01mFalse\u001b[39;00m)\n\u001b[0;32m     61\u001b[0m \u001b[38;5;28;01mfor\u001b[39;00m i \u001b[38;5;129;01min\u001b[39;00m p_link:\n\u001b[1;32m---> 62\u001b[0m   \u001b[43mdriver\u001b[49m\u001b[38;5;241;43m.\u001b[39;49m\u001b[43mget\u001b[49m\u001b[43m(\u001b[49m\u001b[43mi\u001b[49m\u001b[43m)\u001b[49m\n\u001b[0;32m     63\u001b[0m   time\u001b[38;5;241m.\u001b[39msleep(\u001b[38;5;241m5\u001b[39m)\n\u001b[0;32m     64\u001b[0m   pepsu(i)\n",
      "File \u001b[1;32mc:\\Users\\ANNIE CHRISTINA G\\AppData\\Local\\Programs\\Python\\Python312\\Lib\\site-packages\\selenium\\webdriver\\remote\\webdriver.py:363\u001b[0m, in \u001b[0;36mWebDriver.get\u001b[1;34m(self, url)\u001b[0m\n\u001b[0;32m    361\u001b[0m \u001b[38;5;28;01mdef\u001b[39;00m \u001b[38;5;21mget\u001b[39m(\u001b[38;5;28mself\u001b[39m, url: \u001b[38;5;28mstr\u001b[39m) \u001b[38;5;241m-\u001b[39m\u001b[38;5;241m>\u001b[39m \u001b[38;5;28;01mNone\u001b[39;00m:\n\u001b[0;32m    362\u001b[0m \u001b[38;5;250m    \u001b[39m\u001b[38;5;124;03m\"\"\"Loads a web page in the current browser session.\"\"\"\u001b[39;00m\n\u001b[1;32m--> 363\u001b[0m     \u001b[38;5;28;43mself\u001b[39;49m\u001b[38;5;241;43m.\u001b[39;49m\u001b[43mexecute\u001b[49m\u001b[43m(\u001b[49m\u001b[43mCommand\u001b[49m\u001b[38;5;241;43m.\u001b[39;49m\u001b[43mGET\u001b[49m\u001b[43m,\u001b[49m\u001b[43m \u001b[49m\u001b[43m{\u001b[49m\u001b[38;5;124;43m\"\u001b[39;49m\u001b[38;5;124;43murl\u001b[39;49m\u001b[38;5;124;43m\"\u001b[39;49m\u001b[43m:\u001b[49m\u001b[43m \u001b[49m\u001b[43murl\u001b[49m\u001b[43m}\u001b[49m\u001b[43m)\u001b[49m\n",
      "File \u001b[1;32mc:\\Users\\ANNIE CHRISTINA G\\AppData\\Local\\Programs\\Python\\Python312\\Lib\\site-packages\\selenium\\webdriver\\remote\\webdriver.py:354\u001b[0m, in \u001b[0;36mWebDriver.execute\u001b[1;34m(self, driver_command, params)\u001b[0m\n\u001b[0;32m    352\u001b[0m response \u001b[38;5;241m=\u001b[39m \u001b[38;5;28mself\u001b[39m\u001b[38;5;241m.\u001b[39mcommand_executor\u001b[38;5;241m.\u001b[39mexecute(driver_command, params)\n\u001b[0;32m    353\u001b[0m \u001b[38;5;28;01mif\u001b[39;00m response:\n\u001b[1;32m--> 354\u001b[0m     \u001b[38;5;28;43mself\u001b[39;49m\u001b[38;5;241;43m.\u001b[39;49m\u001b[43merror_handler\u001b[49m\u001b[38;5;241;43m.\u001b[39;49m\u001b[43mcheck_response\u001b[49m\u001b[43m(\u001b[49m\u001b[43mresponse\u001b[49m\u001b[43m)\u001b[49m\n\u001b[0;32m    355\u001b[0m     response[\u001b[38;5;124m\"\u001b[39m\u001b[38;5;124mvalue\u001b[39m\u001b[38;5;124m\"\u001b[39m] \u001b[38;5;241m=\u001b[39m \u001b[38;5;28mself\u001b[39m\u001b[38;5;241m.\u001b[39m_unwrap_value(response\u001b[38;5;241m.\u001b[39mget(\u001b[38;5;124m\"\u001b[39m\u001b[38;5;124mvalue\u001b[39m\u001b[38;5;124m\"\u001b[39m, \u001b[38;5;28;01mNone\u001b[39;00m))\n\u001b[0;32m    356\u001b[0m     \u001b[38;5;28;01mreturn\u001b[39;00m response\n",
      "File \u001b[1;32mc:\\Users\\ANNIE CHRISTINA G\\AppData\\Local\\Programs\\Python\\Python312\\Lib\\site-packages\\selenium\\webdriver\\remote\\errorhandler.py:229\u001b[0m, in \u001b[0;36mErrorHandler.check_response\u001b[1;34m(self, response)\u001b[0m\n\u001b[0;32m    227\u001b[0m         alert_text \u001b[38;5;241m=\u001b[39m value[\u001b[38;5;124m\"\u001b[39m\u001b[38;5;124malert\u001b[39m\u001b[38;5;124m\"\u001b[39m]\u001b[38;5;241m.\u001b[39mget(\u001b[38;5;124m\"\u001b[39m\u001b[38;5;124mtext\u001b[39m\u001b[38;5;124m\"\u001b[39m)\n\u001b[0;32m    228\u001b[0m     \u001b[38;5;28;01mraise\u001b[39;00m exception_class(message, screen, stacktrace, alert_text)  \u001b[38;5;66;03m# type: ignore[call-arg]  # mypy is not smart enough here\u001b[39;00m\n\u001b[1;32m--> 229\u001b[0m \u001b[38;5;28;01mraise\u001b[39;00m exception_class(message, screen, stacktrace)\n",
      "\u001b[1;31mWebDriverException\u001b[0m: Message: disconnected: not connected to DevTools\n  (failed to check if window was closed: disconnected: not connected to DevTools)\n  (Session info: chrome=126.0.6478.128)\nStacktrace:\n\tGetHandleVerifier [0x00007FF6E1AAEEB2+31554]\n\t(No symbol) [0x00007FF6E1A27EE9]\n\t(No symbol) [0x00007FF6E18E872A]\n\t(No symbol) [0x00007FF6E18CFA9C]\n\t(No symbol) [0x00007FF6E18CF960]\n\t(No symbol) [0x00007FF6E18EAD51]\n\t(No symbol) [0x00007FF6E197C079]\n\t(No symbol) [0x00007FF6E195CDD3]\n\t(No symbol) [0x00007FF6E192A33B]\n\t(No symbol) [0x00007FF6E192AED1]\n\tGetHandleVerifier [0x00007FF6E1DB8B2D+3217341]\n\tGetHandleVerifier [0x00007FF6E1E05AF3+3532675]\n\tGetHandleVerifier [0x00007FF6E1DFB0F0+3489152]\n\tGetHandleVerifier [0x00007FF6E1B5E786+750614]\n\t(No symbol) [0x00007FF6E1A3376F]\n\t(No symbol) [0x00007FF6E1A2EB24]\n\t(No symbol) [0x00007FF6E1A2ECB2]\n\t(No symbol) [0x00007FF6E1A1E17F]\n\tBaseThreadInitThunk [0x00007FFBA5E8257D+29]\n\tRtlUserThreadStart [0x00007FFBA722AF28+40]\n"
     ]
    }
   ],
   "source": []
  },
  {
   "cell_type": "code",
   "execution_count": 22,
   "metadata": {},
   "outputs": [],
   "source": []
  },
  {
   "cell_type": "code",
   "execution_count": null,
   "metadata": {},
   "outputs": [],
   "source": []
  },
  {
   "cell_type": "markdown",
   "metadata": {},
   "source": [
    "(4)ASTC"
   ]
  },
  {
   "cell_type": "code",
   "execution_count": 42,
   "metadata": {},
   "outputs": [
    {
     "name": "stdout",
     "output_type": "stream",
     "text": [
      "4\n",
      "['https://www.redbus.in/bus-tickets/patna-to-bettiah', 'https://www.redbus.in/bus-tickets/gopalganj-to-delhi', 'https://www.redbus.in/bus-tickets/patna-to-motihari', 'https://www.redbus.in/bus-tickets/delhi-to-motihari', 'https://www.redbus.in/bus-tickets/bettiah-to-patna', 'https://www.redbus.in/bus-tickets/motihari-to-delhi', 'https://www.redbus.in/bus-tickets/patna-to-balmiki-nagar-bihar', 'https://www.redbus.in/bus-tickets/balmiki-nagar-bihar-to-patna', 'https://www.redbus.in/bus-tickets/patna-to-kathmandu', 'https://www.redbus.in/bus-tickets/patna-to-katihar', 'https://www.redbus.in/bus-tickets/patna-to-purnea', 'https://www.redbus.in/bus-tickets/patna-to-hazaribagh', 'https://www.redbus.in/bus-tickets/ranchi-to-patna', 'https://www.redbus.in/bus-tickets/hazaribagh-to-patna', 'https://www.redbus.in/bus-tickets/patna-to-raxaul', 'https://www.redbus.in/bus-tickets/muzaffarpur-to-kathmandu', 'https://www.redbus.in/bus-tickets/patna-to-ranchi', 'https://www.redbus.in/bus-tickets/muzaffarpur-to-ranchi', 'https://www.redbus.in/bus-tickets/kathmandu-to-patna', 'https://www.redbus.in/bus-tickets/ranchi-to-muzaffarpur', 'https://www.redbus.in/bus-tickets/motihari-to-lucknow', 'https://www.redbus.in/bus-tickets/lucknow-to-motihari', 'https://www.redbus.in/bus-tickets/motihari-to-kathmandu', 'https://www.redbus.in/bus-tickets/agra-to-motihari', 'https://www.redbus.in/bus-tickets/patna-to-janakpur-nepal', 'https://www.redbus.in/bus-tickets/muzaffarpur-to-hazaribagh', 'https://www.redbus.in/bus-tickets/purnea-to-patna', 'https://www.redbus.in/bus-tickets/patna-to-araria', 'https://www.redbus.in/bus-tickets/darbhanga-to-patna', 'https://www.redbus.in/bus-tickets/patna-to-saharsa', 'https://www.redbus.in/bus-tickets/motihari-to-agra', 'https://www.redbus.in/bus-tickets/hajipur-to-kathmandu', 'https://www.redbus.in/bus-tickets/kathmandu-to-motihari', 'https://www.redbus.in/bus-tickets/patna-to-forbesganj', 'https://www.redbus.in/bus-tickets/ranchi-to-hajipur', 'https://www.redbus.in/bus-tickets/lucknow-to-gopalganj']\n",
      "36\n"
     ]
    },
    {
     "ename": "KeyboardInterrupt",
     "evalue": "",
     "output_type": "error",
     "traceback": [
      "\u001b[1;31m---------------------------------------------------------------------------\u001b[0m",
      "\u001b[1;31mKeyboardInterrupt\u001b[0m                         Traceback (most recent call last)",
      "Cell \u001b[1;32mIn[42], line 64\u001b[0m\n\u001b[0;32m     62\u001b[0m driver\u001b[38;5;241m.\u001b[39mget(i)\n\u001b[0;32m     63\u001b[0m time\u001b[38;5;241m.\u001b[39msleep(\u001b[38;5;241m5\u001b[39m)\n\u001b[1;32m---> 64\u001b[0m \u001b[43mbsrtc\u001b[49m\u001b[43m(\u001b[49m\u001b[43mi\u001b[49m\u001b[43m)\u001b[49m\n",
      "Cell \u001b[1;32mIn[41], line 15\u001b[0m, in \u001b[0;36mbsrtc\u001b[1;34m(i)\u001b[0m\n\u001b[0;32m     13\u001b[0m time\u001b[38;5;241m.\u001b[39msleep(\u001b[38;5;241m5\u001b[39m)\n\u001b[0;32m     14\u001b[0m driver\u001b[38;5;241m.\u001b[39mexecute_script(\u001b[38;5;124m\"\u001b[39m\u001b[38;5;124mwindow.scrollTo(0, document.body.scrollHeight);\u001b[39m\u001b[38;5;124m\"\u001b[39m)\n\u001b[1;32m---> 15\u001b[0m \u001b[43mtime\u001b[49m\u001b[38;5;241;43m.\u001b[39;49m\u001b[43msleep\u001b[49m\u001b[43m(\u001b[49m\u001b[38;5;241;43m5\u001b[39;49m\u001b[43m)\u001b[49m\n\u001b[0;32m     17\u001b[0m \u001b[38;5;28;01mtry\u001b[39;00m :\n\u001b[0;32m     18\u001b[0m     title \u001b[38;5;241m=\u001b[39m driver\u001b[38;5;241m.\u001b[39mfind_element(By\u001b[38;5;241m.\u001b[39mXPATH,\u001b[38;5;124m\"\u001b[39m\u001b[38;5;124m//div[@class=\u001b[39m\u001b[38;5;124m'\u001b[39m\u001b[38;5;124mD136_heading\u001b[39m\u001b[38;5;124m'\u001b[39m\u001b[38;5;124m]\u001b[39m\u001b[38;5;124m\"\u001b[39m)\u001b[38;5;241m.\u001b[39mtext\n",
      "\u001b[1;31mKeyboardInterrupt\u001b[0m: "
     ]
    }
   ],
   "source": []
  },
  {
   "cell_type": "code",
   "execution_count": 41,
   "metadata": {},
   "outputs": [],
   "source": []
  },
  {
   "cell_type": "code",
   "execution_count": null,
   "metadata": {},
   "outputs": [],
   "source": []
  },
  {
   "cell_type": "code",
   "execution_count": null,
   "metadata": {},
   "outputs": [],
   "source": []
  },
  {
   "cell_type": "code",
   "execution_count": null,
   "metadata": {},
   "outputs": [],
   "source": []
  }
 ],
 "metadata": {
  "kernelspec": {
   "display_name": "Python 3",
   "language": "python",
   "name": "python3"
  },
  "language_info": {
   "codemirror_mode": {
    "name": "ipython",
    "version": 3
   },
   "file_extension": ".py",
   "mimetype": "text/x-python",
   "name": "python",
   "nbconvert_exporter": "python",
   "pygments_lexer": "ipython3",
   "version": "3.12.4"
  }
 },
 "nbformat": 4,
 "nbformat_minor": 2
}
